{
  "cells": [
    {
      "cell_type": "markdown",
      "metadata": {
        "id": "3ovTP1wD-tES"
      },
      "source": [
        "---\n",
        "#Computer Vision Assignment\n",
        "___"
      ]
    },
    {
      "cell_type": "markdown",
      "metadata": {
        "id": "XHn_tYeH-sqo"
      },
      "source": [
        ">>Importing neccesary liabraries"
      ]
    },
    {
      "cell_type": "code",
      "execution_count": null,
      "metadata": {
        "id": "5rWfWRZOC7sk"
      },
      "outputs": [],
      "source": [
        "import numpy as np\n",
        "from matplotlib import pyplot as plt\n",
        "import cv2\n",
        "from google.colab.patches import cv2_imshow\n",
        "from PIL import Image\n",
        "from sklearn.decomposition import PCA\n",
        "from sklearn.ensemble import RandomForestClassifier\n",
        "from sklearn.model_selection import train_test_split\n",
        "from sklearn.metrics import accuracy_score, f1_score\n",
        "import pickle"
      ]
    },
    {
      "cell_type": "markdown",
      "metadata": {
        "id": "eZAPoO9h_ZQA"
      },
      "source": [
        ">> Working directory"
      ]
    },
    {
      "cell_type": "code",
      "execution_count": null,
      "metadata": {
        "colab": {
          "base_uri": "https://localhost:8080/"
        },
        "id": "SiKTLm_xTYYG",
        "outputId": "d339bab4-0984-4328-fe5e-a6d80b508943"
      },
      "outputs": [
        {
          "output_type": "stream",
          "name": "stdout",
          "text": [
            "/content\n"
          ]
        }
      ],
      "source": [
        "import os\n",
        "print(os.getcwd())"
      ]
    },
    {
      "cell_type": "markdown",
      "metadata": {
        "id": "RurUpIgy_hfj"
      },
      "source": [
        ">> Mounting google drive for direct insertion of data from cloud source"
      ]
    },
    {
      "cell_type": "code",
      "execution_count": null,
      "metadata": {
        "colab": {
          "base_uri": "https://localhost:8080/"
        },
        "id": "UyMVEIqSS_ur",
        "outputId": "f83e40c5-de7e-42e7-c52e-e0e18b8e3206"
      },
      "outputs": [
        {
          "output_type": "stream",
          "name": "stdout",
          "text": [
            "Drive already mounted at /content/drive; to attempt to forcibly remount, call drive.mount(\"/content/drive\", force_remount=True).\n"
          ]
        }
      ],
      "source": [
        "from google.colab import drive\n",
        "drive.mount('/content/drive')"
      ]
    },
    {
      "cell_type": "markdown",
      "metadata": {
        "id": "3oZhFmXN_3BQ"
      },
      "source": [
        ">> Changing working directory for data insertion"
      ]
    },
    {
      "cell_type": "code",
      "execution_count": null,
      "metadata": {
        "id": "WC1kOpGSRBBM"
      },
      "outputs": [],
      "source": [
        "path = '/content/drive/My Drive/dataset_full'\n",
        "os.chdir(path)"
      ]
    },
    {
      "cell_type": "markdown",
      "metadata": {
        "id": "7PBOGM82AKTg"
      },
      "source": [
        ">> Cross checking number of folders available in the directory"
      ]
    },
    {
      "cell_type": "code",
      "execution_count": null,
      "metadata": {
        "colab": {
          "base_uri": "https://localhost:8080/"
        },
        "id": "DE1vdfyeppNe",
        "outputId": "caf06213-357c-4467-aec6-e2fde726dfca"
      },
      "outputs": [
        {
          "output_type": "execute_result",
          "data": {
            "text/plain": [
              "['Forest',\n",
              " 'Glacier',\n",
              " 'Streets',\n",
              " 'Mountains',\n",
              " 'Sea',\n",
              " 'Building',\n",
              " 'processed_glacier',\n",
              " 'processed_sea',\n",
              " 'processed_streets']"
            ]
          },
          "metadata": {},
          "execution_count": 6
        }
      ],
      "source": [
        "os.listdir('.')"
      ]
    },
    {
      "cell_type": "markdown",
      "metadata": {
        "id": "8FDrNKpiASug"
      },
      "source": [
        ">> Defining function for image preprocess\n",
        "\n",
        "Image preprocess: Removing noise present in the data and any additional non-important factors.\n",
        "\n",
        "Below preprocessing done are resize, converting color image to grayscale, enhancing contrast by histogram equalization, reducing noise by image smoothing"
      ]
    },
    {
      "cell_type": "code",
      "execution_count": null,
      "metadata": {
        "id": "ciFPcWX4swFu"
      },
      "outputs": [],
      "source": [
        "def preprocess_image(image_path):\n",
        "\n",
        "    image = cv2.imread(image_path)\n",
        "    resized_image = cv2.resize(image, (128, 128))\n",
        "    gray_image = cv2.cvtColor(resized_image, cv2.COLOR_BGR2GRAY)\n",
        "    equalized_image = cv2.equalizeHist(gray_image)\n",
        "    smoothed_image = cv2.GaussianBlur(equalized_image, (5, 5), 0)\n",
        "\n",
        "    return smoothed_image"
      ]
    },
    {
      "cell_type": "markdown",
      "metadata": {
        "id": "IkzEVsWVCQTt"
      },
      "source": [
        ">> Assigned variable for each feature path for ease of preprocessing each image in the folder and saving it on new folder"
      ]
    },
    {
      "cell_type": "code",
      "execution_count": null,
      "metadata": {
        "id": "1qNzYnhTr2nM"
      },
      "outputs": [],
      "source": [
        "building = '/content/drive/My Drive/dataset_full/Building'\n",
        "processed_building = '/content/drive/My Drive/dataset_full/processed_building'\n",
        "\n",
        "forest = '/content/drive/My Drive/dataset_full/Forest'\n",
        "processed_forest = '/content/drive/My Drive/dataset_full/processed_forest'\n",
        "\n",
        "glacier = '/content/drive/My Drive/dataset_full/Glacier'\n",
        "processed_glacier = '/content/drive/My Drive/dataset_full/processed_glacier'\n",
        "\n",
        "mountains = '/content/drive/My Drive/dataset_full/Mountains'\n",
        "processed_mountains = '/content/drive/My Drive/dataset_full/processed_mountains'\n",
        "\n",
        "sea = '/content/drive/My Drive/dataset_full/Sea'\n",
        "processed_sea = '/content/drive/My Drive/dataset_full/processed_sea'\n",
        "\n",
        "streets = '/content/drive/My Drive/dataset_full/Streets'\n",
        "processed_streets = '/content/drive/My Drive/dataset_full/processed_streets'"
      ]
    },
    {
      "cell_type": "markdown",
      "metadata": {
        "id": "MmhAXlM2EVRS"
      },
      "source": [
        ">> Preprocessing each image inside the folder and saving it on new directly on\n",
        "google drive"
      ]
    },
    {
      "cell_type": "code",
      "execution_count": null,
      "metadata": {
        "id": "EFOZjEE_fKLL"
      },
      "outputs": [],
      "source": [
        "for filename in os.listdir(building):\n",
        "    if filename.endswith('.jpg'):\n",
        "        image_path = os.path.join(building, filename)\n",
        "        processed_image = preprocess_image(image_path)\n",
        "\n",
        "        processed_image_path = os.path.join(processed_building, 'processed_' + filename)\n",
        "        cv2.imwrite(processed_image_path, processed_image)\n",
        "\n",
        "for filename in os.listdir(forest):\n",
        "    if filename.endswith('.jpg'):\n",
        "        image_path = os.path.join(forest, filename)\n",
        "        processed_image = preprocess_image(image_path)\n",
        "\n",
        "        processed_image_path = os.path.join(processed_forest, 'processed_' + filename)\n",
        "        cv2.imwrite(processed_image_path, processed_image)\n",
        "\n",
        "for filename in os.listdir(glacier):\n",
        "    if filename.endswith('.jpg'):\n",
        "        image_path = os.path.join(glacier, filename)\n",
        "        processed_image = preprocess_image(image_path)\n",
        "\n",
        "        processed_image_path = os.path.join(processed_glacier, 'processed_' + filename)\n",
        "        cv2.imwrite(processed_image_path, processed_image)\n",
        "\n",
        "for filename in os.listdir(mountains):\n",
        "    if filename.endswith('.jpg'):\n",
        "        image_path = os.path.join(mountains, filename)\n",
        "        processed_image = preprocess_image(image_path)\n",
        "\n",
        "        processed_image_path = os.path.join(processed_mountains, 'processed_' + filename)\n",
        "        cv2.imwrite(processed_image_path, processed_image)\n",
        "\n",
        "for filename in os.listdir(sea):\n",
        "    if filename.endswith('.jpg'):\n",
        "        image_path = os.path.join(sea, filename)\n",
        "        processed_image = preprocess_image(image_path)\n",
        "\n",
        "        processed_image_path = os.path.join(processed_sea, 'processed_' + filename)\n",
        "        cv2.imwrite(processed_image_path, processed_image)\n",
        "\n",
        "for filename in os.listdir(streets):\n",
        "    if filename.endswith('.jpg'):\n",
        "        image_path = os.path.join(streets, filename)\n",
        "        processed_image = preprocess_image(image_path)\n",
        "\n",
        "        processed_image_path = os.path.join(processed_streets, 'processed_' + filename)\n",
        "        cv2.imwrite(processed_image_path, processed_image)"
      ]
    },
    {
      "cell_type": "markdown",
      "metadata": {
        "id": "4HVcEYsgdhN7"
      },
      "source": [
        "----\n",
        "-----"
      ]
    },
    {
      "cell_type": "markdown",
      "metadata": {
        "id": "MesH9BUQEyHf"
      },
      "source": [
        ">>Interchanging driectories for each new folders for flattening image and converting it on array for numerical transformation to further use for model bulding and training"
      ]
    },
    {
      "cell_type": "markdown",
      "metadata": {
        "id": "UNFmgAlWFS6a"
      },
      "source": [
        "#Building"
      ]
    },
    {
      "cell_type": "code",
      "execution_count": null,
      "metadata": {
        "colab": {
          "base_uri": "https://localhost:8080/"
        },
        "id": "7sofYuwsy4wW",
        "outputId": "a42a013d-d04f-46ea-c251-5db27ce5a7c3"
      },
      "outputs": [
        {
          "output_type": "stream",
          "name": "stdout",
          "text": [
            "/content/drive/My Drive/dataset_full/processed_building\n"
          ]
        }
      ],
      "source": [
        "path = '/content/drive/My Drive/dataset_full/processed_building'\n",
        "os.chdir(path)\n",
        "print(os.getcwd())"
      ]
    },
    {
      "cell_type": "code",
      "execution_count": null,
      "metadata": {
        "colab": {
          "base_uri": "https://localhost:8080/"
        },
        "id": "dg8XUKeo0Nk2",
        "outputId": "22c3bbc3-79bf-451c-b46b-d4c75889c2a1"
      },
      "outputs": [
        {
          "output_type": "stream",
          "name": "stdout",
          "text": [
            "(500, 16384)\n",
            "(500,)\n"
          ]
        }
      ],
      "source": [
        "f1_building = []\n",
        "\n",
        "for filename in os.listdir(path):\n",
        "    img_path = os.path.join(path, filename)\n",
        "    img = Image.open(img_path)\n",
        "    image_array = np.array(img)\n",
        "    flattened_image = image_array.flatten()\n",
        "    f1_building.append(flattened_image)\n",
        "\n",
        "print(np.shape(f1_building))\n",
        "\n",
        "f1_y = [1 for _ in f1_building]\n",
        "print(np.shape(f1_y))"
      ]
    },
    {
      "cell_type": "markdown",
      "metadata": {
        "id": "6UIWx3SyFfkE"
      },
      "source": [
        "#Forest"
      ]
    },
    {
      "cell_type": "code",
      "execution_count": null,
      "metadata": {
        "colab": {
          "base_uri": "https://localhost:8080/"
        },
        "id": "f8v_xXOnD5LE",
        "outputId": "217be7c8-e173-41e9-f6d9-330aa52ef7a5"
      },
      "outputs": [
        {
          "output_type": "stream",
          "name": "stdout",
          "text": [
            "/content/drive/My Drive/dataset_full/processed_forest\n"
          ]
        }
      ],
      "source": [
        "path = '/content/drive/My Drive/dataset_full/processed_forest'\n",
        "os.chdir(path)\n",
        "print(os.getcwd())"
      ]
    },
    {
      "cell_type": "code",
      "execution_count": null,
      "metadata": {
        "colab": {
          "base_uri": "https://localhost:8080/"
        },
        "id": "59oHQ5ow1N4-",
        "outputId": "1624dbf3-825e-47dc-e2c7-26698011ff82"
      },
      "outputs": [
        {
          "output_type": "stream",
          "name": "stdout",
          "text": [
            "(2745, 16384)\n",
            "(2745,)\n"
          ]
        }
      ],
      "source": [
        "f2_forest = []\n",
        "\n",
        "for filename in os.listdir(path):\n",
        "    img_path = os.path.join(path, filename)\n",
        "    img = Image.open(img_path)\n",
        "    image_array = np.array(img)\n",
        "    flattened_image = image_array.flatten()\n",
        "    f2_forest.append(flattened_image)\n",
        "\n",
        "print(np.shape(f2_forest))\n",
        "\n",
        "f2_y = [2 for _ in f2_forest]\n",
        "print(np.shape(f2_y))"
      ]
    },
    {
      "cell_type": "markdown",
      "metadata": {
        "id": "1JGWHy11FjGe"
      },
      "source": [
        "#Glacier"
      ]
    },
    {
      "cell_type": "code",
      "execution_count": null,
      "metadata": {
        "id": "nCDNlQQGEUqd",
        "colab": {
          "base_uri": "https://localhost:8080/"
        },
        "outputId": "4c79f12d-4a40-4c7d-f700-fdb481087a91"
      },
      "outputs": [
        {
          "output_type": "stream",
          "name": "stdout",
          "text": [
            "/content/drive/My Drive/dataset_full/processed_glacier\n"
          ]
        }
      ],
      "source": [
        "path = '/content/drive/My Drive/dataset_full/processed_glacier'\n",
        "os.chdir(path)\n",
        "print(os.getcwd())"
      ]
    },
    {
      "cell_type": "code",
      "execution_count": null,
      "metadata": {
        "id": "cMPM6sp1Eq1C",
        "colab": {
          "base_uri": "https://localhost:8080/"
        },
        "outputId": "255fa087-414e-4b7c-d7a4-f6a49650986a"
      },
      "outputs": [
        {
          "output_type": "stream",
          "name": "stdout",
          "text": [
            "(500, 16384)\n",
            "(500,)\n"
          ]
        }
      ],
      "source": [
        "f3_glacier = []\n",
        "\n",
        "for filename in os.listdir(path):\n",
        "    img_path = os.path.join(path, filename)\n",
        "    img = Image.open(img_path)\n",
        "    image_array = np.array(img)\n",
        "    flattened_image = image_array.flatten()\n",
        "    f3_glacier.append(flattened_image)\n",
        "\n",
        "print(np.shape(f3_glacier))\n",
        "\n",
        "f3_y = [3 for _ in f3_glacier]\n",
        "print(np.shape(f3_y))"
      ]
    },
    {
      "cell_type": "markdown",
      "metadata": {
        "id": "bEHbIrjqFmBX"
      },
      "source": [
        "#Sea"
      ]
    },
    {
      "cell_type": "code",
      "execution_count": null,
      "metadata": {
        "id": "xtqXctaAFFlm",
        "colab": {
          "base_uri": "https://localhost:8080/"
        },
        "outputId": "11d351bd-4e83-450e-f93a-fb4913feed07"
      },
      "outputs": [
        {
          "output_type": "stream",
          "name": "stdout",
          "text": [
            "/content/drive/My Drive/dataset_full/processed_sea\n"
          ]
        }
      ],
      "source": [
        "path = '/content/drive/My Drive/dataset_full/processed_sea'\n",
        "os.chdir(path)\n",
        "print(os.getcwd())"
      ]
    },
    {
      "cell_type": "code",
      "execution_count": null,
      "metadata": {
        "id": "ig3L-X2nGDFD",
        "colab": {
          "base_uri": "https://localhost:8080/"
        },
        "outputId": "34cc17f3-6553-4c3f-af26-a5ac9538000f"
      },
      "outputs": [
        {
          "output_type": "stream",
          "name": "stdout",
          "text": [
            "(500, 16384)\n",
            "(500,)\n"
          ]
        }
      ],
      "source": [
        "f4_sea = []\n",
        "\n",
        "for filename in os.listdir(path):\n",
        "    img_path = os.path.join(path, filename)\n",
        "    img = Image.open(img_path)\n",
        "    image_array = np.array(img)\n",
        "    flattened_image = image_array.flatten()\n",
        "    f4_sea.append(flattened_image)\n",
        "\n",
        "print(np.shape(f4_sea))\n",
        "\n",
        "f4_y = [4 for _ in f4_sea]\n",
        "print(np.shape(f4_y))"
      ]
    },
    {
      "cell_type": "markdown",
      "metadata": {
        "id": "r2dhHRIbFoa3"
      },
      "source": [
        "#Mountains"
      ]
    },
    {
      "cell_type": "code",
      "execution_count": null,
      "metadata": {
        "id": "Bh6al_IJGT_9",
        "colab": {
          "base_uri": "https://localhost:8080/"
        },
        "outputId": "cf7bfdd6-1850-4767-fb66-2e551295d6e8"
      },
      "outputs": [
        {
          "output_type": "stream",
          "name": "stdout",
          "text": [
            "/content/drive/My Drive/dataset_full/processed_mountains\n"
          ]
        }
      ],
      "source": [
        "path = '/content/drive/My Drive/dataset_full/processed_mountains'\n",
        "os.chdir(path)\n",
        "print(os.getcwd())"
      ]
    },
    {
      "cell_type": "code",
      "execution_count": null,
      "metadata": {
        "id": "KgEGiezDGl3T",
        "colab": {
          "base_uri": "https://localhost:8080/"
        },
        "outputId": "dc334780-f9a7-4e3b-8bea-2b1596635562"
      },
      "outputs": [
        {
          "output_type": "stream",
          "name": "stdout",
          "text": [
            "(500, 16384)\n",
            "(500,)\n"
          ]
        }
      ],
      "source": [
        "f5_moutains = []\n",
        "\n",
        "for filename in os.listdir(path):\n",
        "    img_path = os.path.join(path, filename)\n",
        "    img = Image.open(img_path)\n",
        "    image_array = np.array(img)\n",
        "    flattened_image = image_array.flatten()\n",
        "    f5_moutains.append(flattened_image)\n",
        "\n",
        "print(np.shape(f5_moutains))\n",
        "\n",
        "f5_y = [5 for _ in f5_moutains]\n",
        "print(np.shape(f5_y))"
      ]
    },
    {
      "cell_type": "markdown",
      "metadata": {
        "id": "l4wJaBpoFrVN"
      },
      "source": [
        "#Streets"
      ]
    },
    {
      "cell_type": "code",
      "execution_count": null,
      "metadata": {
        "id": "kO4YT9JLG5iw",
        "colab": {
          "base_uri": "https://localhost:8080/"
        },
        "outputId": "e63c7046-6421-4440-a452-0fb2981b9595"
      },
      "outputs": [
        {
          "output_type": "stream",
          "name": "stdout",
          "text": [
            "/content/drive/My Drive/dataset_full/processed_streets\n"
          ]
        }
      ],
      "source": [
        "path = '/content/drive/My Drive/dataset_full/processed_streets'\n",
        "os.chdir(path)\n",
        "print(os.getcwd())"
      ]
    },
    {
      "cell_type": "code",
      "execution_count": null,
      "metadata": {
        "id": "yqvfC_EXG9pe",
        "colab": {
          "base_uri": "https://localhost:8080/"
        },
        "outputId": "c2b45731-73c1-44ee-c977-da7117b9de52"
      },
      "outputs": [
        {
          "output_type": "stream",
          "name": "stdout",
          "text": [
            "(500, 16384)\n",
            "(500,)\n"
          ]
        }
      ],
      "source": [
        "f6_streets = []\n",
        "\n",
        "for filename in os.listdir(path):\n",
        "    img_path = os.path.join(path, filename)\n",
        "    img = Image.open(img_path)\n",
        "    image_array = np.array(img)\n",
        "    flattened_image = image_array.flatten()\n",
        "    f6_streets.append(flattened_image)\n",
        "\n",
        "print(np.shape(f6_streets))\n",
        "\n",
        "f6_y = [6 for _ in f6_streets]\n",
        "print(np.shape(f6_y))"
      ]
    },
    {
      "cell_type": "markdown",
      "metadata": {
        "id": "nQ7TYtfCFxkR"
      },
      "source": [
        ">>Building 2 feature set with different feature class"
      ]
    },
    {
      "cell_type": "code",
      "execution_count": null,
      "metadata": {
        "id": "ZciZUEmuYu51"
      },
      "outputs": [],
      "source": [
        "x_feature_set_1 = np.concatenate((f1_building, f3_glacier, f6_streets))\n",
        "x_feature_set_2 = np.concatenate((f4_sea, f3_glacier, f5_moutains))"
      ]
    },
    {
      "cell_type": "markdown",
      "metadata": {
        "id": "CdSF8ZxkF7NL"
      },
      "source": [
        ">> Assigning numerical value for feature classes to classify each class"
      ]
    },
    {
      "cell_type": "code",
      "execution_count": null,
      "metadata": {
        "id": "WioGD2CvdEiD"
      },
      "outputs": [],
      "source": [
        "y_feature_set_1 = np.concatenate((f1_y, f3_y, f6_y))\n",
        "y_feature_set_2 = np.concatenate((f4_y, f3_y, f5_y))"
      ]
    },
    {
      "cell_type": "markdown",
      "metadata": {
        "id": "OcmQcaz-Gbvg"
      },
      "source": [
        ">>Checking Dimensionality"
      ]
    },
    {
      "cell_type": "code",
      "execution_count": null,
      "metadata": {
        "id": "WnQkoJunhteJ",
        "colab": {
          "base_uri": "https://localhost:8080/"
        },
        "outputId": "d29b72de-d3d6-45e6-932a-61e57ae331d8"
      },
      "outputs": [
        {
          "output_type": "stream",
          "name": "stdout",
          "text": [
            "(1500, 16384)\n",
            "(1500,)\n"
          ]
        }
      ],
      "source": [
        "print(np.shape(x_feature_set_1))\n",
        "print(np.shape(y_feature_set_1))"
      ]
    },
    {
      "cell_type": "markdown",
      "metadata": {
        "id": "RrEvKON_Gfn9"
      },
      "source": [
        ">> Spliting data for model building and training"
      ]
    },
    {
      "cell_type": "code",
      "execution_count": null,
      "metadata": {
        "id": "Eq0-bXXudu_U"
      },
      "outputs": [],
      "source": [
        "X_train, X_test, y_train, y_test = train_test_split(x_feature_set_1, y_feature_set_1, test_size=0.2, random_state= 6)\n",
        "X_train_2, X_test_2, y_train_2, y_test_2 = train_test_split(x_feature_set_2, y_feature_set_2, test_size=0.2, random_state= 5)"
      ]
    },
    {
      "cell_type": "markdown",
      "metadata": {
        "id": "loecd198GvEc"
      },
      "source": [
        ">> Selected Random forest algorith for model building, model selection was based on requirement of building a shalow classification model, Random forest is one of the best classification model that fits the requirement as it covers the data training by spliting dataset into multiple sets and training each set on different decision tree model which helps in check for various factors in dataset also by covering complex features present in the data."
      ]
    },
    {
      "cell_type": "code",
      "source": [
        "X_test.shape"
      ],
      "metadata": {
        "colab": {
          "base_uri": "https://localhost:8080/"
        },
        "id": "GNTXbbv58lbp",
        "outputId": "929d3d93-830b-49e3-e543-f53d176a1d4c"
      },
      "execution_count": null,
      "outputs": [
        {
          "output_type": "execute_result",
          "data": {
            "text/plain": [
              "(300, 16384)"
            ]
          },
          "metadata": {},
          "execution_count": 53
        }
      ]
    },
    {
      "cell_type": "code",
      "execution_count": null,
      "metadata": {
        "id": "UHk7asMseleS",
        "colab": {
          "base_uri": "https://localhost:8080/",
          "height": 74
        },
        "outputId": "ff563b6f-22e2-45e7-f0da-a5a5980588fa"
      },
      "outputs": [
        {
          "output_type": "execute_result",
          "data": {
            "text/plain": [
              "RandomForestClassifier()"
            ],
            "text/html": [
              "<style>#sk-container-id-2 {color: black;background-color: white;}#sk-container-id-2 pre{padding: 0;}#sk-container-id-2 div.sk-toggleable {background-color: white;}#sk-container-id-2 label.sk-toggleable__label {cursor: pointer;display: block;width: 100%;margin-bottom: 0;padding: 0.3em;box-sizing: border-box;text-align: center;}#sk-container-id-2 label.sk-toggleable__label-arrow:before {content: \"▸\";float: left;margin-right: 0.25em;color: #696969;}#sk-container-id-2 label.sk-toggleable__label-arrow:hover:before {color: black;}#sk-container-id-2 div.sk-estimator:hover label.sk-toggleable__label-arrow:before {color: black;}#sk-container-id-2 div.sk-toggleable__content {max-height: 0;max-width: 0;overflow: hidden;text-align: left;background-color: #f0f8ff;}#sk-container-id-2 div.sk-toggleable__content pre {margin: 0.2em;color: black;border-radius: 0.25em;background-color: #f0f8ff;}#sk-container-id-2 input.sk-toggleable__control:checked~div.sk-toggleable__content {max-height: 200px;max-width: 100%;overflow: auto;}#sk-container-id-2 input.sk-toggleable__control:checked~label.sk-toggleable__label-arrow:before {content: \"▾\";}#sk-container-id-2 div.sk-estimator input.sk-toggleable__control:checked~label.sk-toggleable__label {background-color: #d4ebff;}#sk-container-id-2 div.sk-label input.sk-toggleable__control:checked~label.sk-toggleable__label {background-color: #d4ebff;}#sk-container-id-2 input.sk-hidden--visually {border: 0;clip: rect(1px 1px 1px 1px);clip: rect(1px, 1px, 1px, 1px);height: 1px;margin: -1px;overflow: hidden;padding: 0;position: absolute;width: 1px;}#sk-container-id-2 div.sk-estimator {font-family: monospace;background-color: #f0f8ff;border: 1px dotted black;border-radius: 0.25em;box-sizing: border-box;margin-bottom: 0.5em;}#sk-container-id-2 div.sk-estimator:hover {background-color: #d4ebff;}#sk-container-id-2 div.sk-parallel-item::after {content: \"\";width: 100%;border-bottom: 1px solid gray;flex-grow: 1;}#sk-container-id-2 div.sk-label:hover label.sk-toggleable__label {background-color: #d4ebff;}#sk-container-id-2 div.sk-serial::before {content: \"\";position: absolute;border-left: 1px solid gray;box-sizing: border-box;top: 0;bottom: 0;left: 50%;z-index: 0;}#sk-container-id-2 div.sk-serial {display: flex;flex-direction: column;align-items: center;background-color: white;padding-right: 0.2em;padding-left: 0.2em;position: relative;}#sk-container-id-2 div.sk-item {position: relative;z-index: 1;}#sk-container-id-2 div.sk-parallel {display: flex;align-items: stretch;justify-content: center;background-color: white;position: relative;}#sk-container-id-2 div.sk-item::before, #sk-container-id-2 div.sk-parallel-item::before {content: \"\";position: absolute;border-left: 1px solid gray;box-sizing: border-box;top: 0;bottom: 0;left: 50%;z-index: -1;}#sk-container-id-2 div.sk-parallel-item {display: flex;flex-direction: column;z-index: 1;position: relative;background-color: white;}#sk-container-id-2 div.sk-parallel-item:first-child::after {align-self: flex-end;width: 50%;}#sk-container-id-2 div.sk-parallel-item:last-child::after {align-self: flex-start;width: 50%;}#sk-container-id-2 div.sk-parallel-item:only-child::after {width: 0;}#sk-container-id-2 div.sk-dashed-wrapped {border: 1px dashed gray;margin: 0 0.4em 0.5em 0.4em;box-sizing: border-box;padding-bottom: 0.4em;background-color: white;}#sk-container-id-2 div.sk-label label {font-family: monospace;font-weight: bold;display: inline-block;line-height: 1.2em;}#sk-container-id-2 div.sk-label-container {text-align: center;}#sk-container-id-2 div.sk-container {/* jupyter's `normalize.less` sets `[hidden] { display: none; }` but bootstrap.min.css set `[hidden] { display: none !important; }` so we also need the `!important` here to be able to override the default hidden behavior on the sphinx rendered scikit-learn.org. See: https://github.com/scikit-learn/scikit-learn/issues/21755 */display: inline-block !important;position: relative;}#sk-container-id-2 div.sk-text-repr-fallback {display: none;}</style><div id=\"sk-container-id-2\" class=\"sk-top-container\"><div class=\"sk-text-repr-fallback\"><pre>RandomForestClassifier()</pre><b>In a Jupyter environment, please rerun this cell to show the HTML representation or trust the notebook. <br />On GitHub, the HTML representation is unable to render, please try loading this page with nbviewer.org.</b></div><div class=\"sk-container\" hidden><div class=\"sk-item\"><div class=\"sk-estimator sk-toggleable\"><input class=\"sk-toggleable__control sk-hidden--visually\" id=\"sk-estimator-id-2\" type=\"checkbox\" checked><label for=\"sk-estimator-id-2\" class=\"sk-toggleable__label sk-toggleable__label-arrow\">RandomForestClassifier</label><div class=\"sk-toggleable__content\"><pre>RandomForestClassifier()</pre></div></div></div></div></div>"
            ]
          },
          "metadata": {},
          "execution_count": 39
        }
      ],
      "source": [
        "model = RandomForestClassifier(n_estimators=100)\n",
        "model.fit(X_train, y_train)\n",
        "\n",
        "model_2 = RandomForestClassifier(n_estimators=100)\n",
        "model_2.fit(X_train_2, y_train_2)"
      ]
    },
    {
      "cell_type": "code",
      "execution_count": null,
      "metadata": {
        "id": "wpkJ4tkhtPX_"
      },
      "outputs": [],
      "source": [
        "y_pred = model.predict(X_test)\n",
        "y_pred_2 = model_2.predict(X_test_2)"
      ]
    },
    {
      "cell_type": "code",
      "execution_count": null,
      "metadata": {
        "id": "BTiorp66yozj",
        "colab": {
          "base_uri": "https://localhost:8080/"
        },
        "outputId": "07b6a302-683c-4e6e-a7da-fd48c299fbb6"
      },
      "outputs": [
        {
          "output_type": "execute_result",
          "data": {
            "text/plain": [
              "0.6066666666666667"
            ]
          },
          "metadata": {},
          "execution_count": 41
        }
      ],
      "source": [
        "accuracy = accuracy_score(y_test, y_pred)\n",
        "accuracy"
      ]
    },
    {
      "cell_type": "code",
      "execution_count": null,
      "metadata": {
        "id": "Muj1hlwe06_b",
        "colab": {
          "base_uri": "https://localhost:8080/"
        },
        "outputId": "0a705799-0d7c-4243-8139-e357eed38285"
      },
      "outputs": [
        {
          "output_type": "execute_result",
          "data": {
            "text/plain": [
              "0.56"
            ]
          },
          "metadata": {},
          "execution_count": 42
        }
      ],
      "source": [
        "accuracy_model_2 = accuracy_score(y_test_2, y_pred_2)\n",
        "accuracy_model_2"
      ]
    },
    {
      "cell_type": "code",
      "execution_count": null,
      "metadata": {
        "id": "xbyJCe9eyvB4",
        "colab": {
          "base_uri": "https://localhost:8080/"
        },
        "outputId": "4565af4c-734d-468a-8865-24c5a223f4cf"
      },
      "outputs": [
        {
          "output_type": "execute_result",
          "data": {
            "text/plain": [
              "0.6056864463372151"
            ]
          },
          "metadata": {},
          "execution_count": 43
        }
      ],
      "source": [
        "f1_score(y_test, y_pred, average='weighted')"
      ]
    },
    {
      "cell_type": "code",
      "execution_count": null,
      "metadata": {
        "id": "Hrf1yGYKzpnn",
        "colab": {
          "base_uri": "https://localhost:8080/"
        },
        "outputId": "2b9a0200-2523-4ece-e981-d78a49dd05fb"
      },
      "outputs": [
        {
          "output_type": "execute_result",
          "data": {
            "text/plain": [
              "0.5585330564713454"
            ]
          },
          "metadata": {},
          "execution_count": 44
        }
      ],
      "source": [
        "f1_score(y_test_2, y_pred_2, average='weighted')"
      ]
    },
    {
      "cell_type": "code",
      "execution_count": null,
      "metadata": {
        "id": "-IjlQxib5BOD",
        "colab": {
          "base_uri": "https://localhost:8080/"
        },
        "outputId": "4edba102-0077-496f-bfca-e454a20dd247"
      },
      "outputs": [
        {
          "output_type": "stream",
          "name": "stdout",
          "text": [
            "Requirement already satisfied: flask in /usr/local/lib/python3.10/dist-packages (2.2.5)\n",
            "Requirement already satisfied: opencv-python-headless in /usr/local/lib/python3.10/dist-packages (4.9.0.80)\n",
            "Requirement already satisfied: numpy in /usr/local/lib/python3.10/dist-packages (1.25.2)\n",
            "Requirement already satisfied: scikit-learn in /usr/local/lib/python3.10/dist-packages (1.2.2)\n",
            "Requirement already satisfied: Werkzeug>=2.2.2 in /usr/local/lib/python3.10/dist-packages (from flask) (3.0.3)\n",
            "Requirement already satisfied: Jinja2>=3.0 in /usr/local/lib/python3.10/dist-packages (from flask) (3.1.4)\n",
            "Requirement already satisfied: itsdangerous>=2.0 in /usr/local/lib/python3.10/dist-packages (from flask) (2.2.0)\n",
            "Requirement already satisfied: click>=8.0 in /usr/local/lib/python3.10/dist-packages (from flask) (8.1.7)\n",
            "Requirement already satisfied: scipy>=1.3.2 in /usr/local/lib/python3.10/dist-packages (from scikit-learn) (1.11.4)\n",
            "Requirement already satisfied: joblib>=1.1.1 in /usr/local/lib/python3.10/dist-packages (from scikit-learn) (1.4.2)\n",
            "Requirement already satisfied: threadpoolctl>=2.0.0 in /usr/local/lib/python3.10/dist-packages (from scikit-learn) (3.5.0)\n",
            "Requirement already satisfied: MarkupSafe>=2.0 in /usr/local/lib/python3.10/dist-packages (from Jinja2>=3.0->flask) (2.1.5)\n"
          ]
        }
      ],
      "source": [
        "!pip install flask opencv-python-headless numpy scikit-learn"
      ]
    },
    {
      "cell_type": "code",
      "source": [
        "os.getcwd()"
      ],
      "metadata": {
        "colab": {
          "base_uri": "https://localhost:8080/",
          "height": 36
        },
        "id": "9sOWWHz6vD0h",
        "outputId": "e92ccecd-4b92-4e45-ce6c-434400f303a0"
      },
      "execution_count": null,
      "outputs": [
        {
          "output_type": "execute_result",
          "data": {
            "text/plain": [
              "'/content/drive/MyDrive/dataset_full/processed_streets'"
            ],
            "application/vnd.google.colaboratory.intrinsic+json": {
              "type": "string"
            }
          },
          "metadata": {},
          "execution_count": 48
        }
      ]
    },
    {
      "cell_type": "code",
      "execution_count": null,
      "metadata": {
        "id": "fF--zykq87dU"
      },
      "outputs": [],
      "source": [
        "with open('model.pkl', 'wb') as file:\n",
        "    pickle.dump(model, file)\n",
        "\n",
        "with open('model_2.pkl', 'wb') as file:\n",
        "    pickle.dump(model_2, file)"
      ]
    },
    {
      "cell_type": "code",
      "execution_count": null,
      "metadata": {
        "id": "NFdG4YzR6m6s"
      },
      "outputs": [],
      "source": [
        "from flask import Flask, request, render_template, redirect, url_for\n",
        "import cv2\n",
        "import numpy as np\n",
        "import pickle\n",
        "\n",
        "\n",
        "app = Flask(__name__)\n",
        "\n",
        "model = pickle.load(open('model.pkl', 'rb'))\n",
        "model_2 = pickle.load(open('model_2.pkl', 'rb'))\n",
        "\n",
        "def preprocess_image(image):\n",
        "    resized_image = cv2.resize(image, (128, 128))\n",
        "    gray_image = cv2.cvtColor(resized_image, cv2.COLOR_BGR2GRAY)\n",
        "    equalized_image = cv2.equalizeHist(gray_image)\n",
        "    smoothed_image = cv2.GaussianBlur(equalized_image, (5, 5), 0)\n",
        "    return smoothed_image\n",
        "\n",
        "def calculate_histogram(image):\n",
        "    hist = cv2.calcHist([image], [0], None, [256], [0, 256])\n",
        "    return hist.flatten()\n",
        "\n",
        "def connected_components(image):\n",
        "    ret, binary_image = cv2.threshold(image, 127, 255, cv2.THRESH_BINARY)\n",
        "    num_labels, labels_im = cv2.connectedComponents(binary_image)\n",
        "    return np.array([num_labels])\n",
        "\n",
        "def edge_detection_sobel(image):\n",
        "    sobelx = cv2.Sobel(image, cv2.CV_64F, 1, 0, ksize=5)\n",
        "    sobely = cv2.Sobel(image, cv2.CV_64F, 0, 1, ksize=5)\n",
        "    sobel_combined = np.sqrt(sobelx**2 + sobely**2)\n",
        "    return sobel_combined.flatten()\n",
        "\n",
        "def edge_detection_canny(image):\n",
        "    edges = cv2.Canny(image, 100, 200)\n",
        "    return edges.flatten()\n",
        "\n",
        "def sift_features(image):\n",
        "    sift = cv2.SIFT_create()\n",
        "    keypoints, descriptors = sift.detectAndCompute(image, None)\n",
        "    if descriptors is not None:\n",
        "        return descriptors.flatten()\n",
        "    else:\n",
        "        return np.array([])\n",
        "\n",
        "@app.route('/')\n",
        "def home():\n",
        "    return render_template('index.html')\n",
        "\n",
        "@app.route('/predict', methods=['POST'])\n",
        "def predict():\n",
        "    if request.method == 'POST':\n",
        "        file = request.files['image']\n",
        "        if not file:\n",
        "            return redirect(url_for('home'))\n",
        "\n",
        "        image = cv2.imdecode(np.frombuffer(file.read(), np.uint8), cv2.IMREAD_COLOR)\n",
        "        preprocessed_image = preprocess_image(image)\n",
        "\n",
        "        hist_features = calculate_histogram(preprocessed_image)\n",
        "        conn_comp_features = connected_components(preprocessed_image)\n",
        "        feature_set_1 = np.hstack([hist_features, conn_comp_features])\n",
        "\n",
        "        sobel_features = edge_detection_sobel(preprocessed_image)\n",
        "        canny_features = edge_detection_canny(preprocessed_image)\n",
        "        sift_desc = sift_features(preprocessed_image)\n",
        "        if sift_desc.size > 0:\n",
        "            feature_set_2 = np.hstack([sobel_features, canny_features, sift_desc])\n",
        "        else:\n",
        "            feature_set_2 = np.hstack([sobel_features, canny_features])\n",
        "\n",
        "        feature_set_1 = pca_1.transform(np.array([feature_set_1]))\n",
        "        feature_set_2 = pca_2.transform(np.array([feature_set_2]))\n",
        "\n",
        "        prediction_1 = model_1.predict(feature_set_1)[0]\n",
        "        prediction_2 = model_2.predict(feature_set_2)[0]\n",
        "\n",
        "        prediction = prediction_1\n",
        "\n",
        "        return render_template('result.html', prediction=prediction)\n",
        "\n",
        "if __name__ == '__main__':\n",
        "    app.run(debug=True)\n"
      ]
    },
    {
      "cell_type": "code",
      "execution_count": null,
      "metadata": {
        "id": "cERwJbwqMsIj"
      },
      "outputs": [],
      "source": []
    }
  ],
  "metadata": {
    "colab": {
      "provenance": []
    },
    "kernelspec": {
      "display_name": "Python 3",
      "name": "python3"
    },
    "language_info": {
      "name": "python"
    }
  },
  "nbformat": 4,
  "nbformat_minor": 0
}